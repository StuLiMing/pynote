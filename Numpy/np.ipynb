{
 "cells": [
  {
   "cell_type": "markdown",
   "metadata": {},
   "source": [
    "## 0 导入 numpy"
   ]
  },
  {
   "cell_type": "code",
   "execution_count": 2,
   "metadata": {},
   "outputs": [],
   "source": [
    "import numpy as np"
   ]
  },
  {
   "cell_type": "markdown",
   "metadata": {},
   "source": [
    "## 1 array 的属性\n",
    "+ shape: array 的形状,一个元组\n",
    "\n",
    "+ size: array 的尺寸，shape 的所有元素之积\n",
    "\n",
    "+ ndim: array 的维数\n",
    "\n",
    "+ dtype: array 数据类型\n",
    "\n",
    "    np 将 `int` 细分为了 `np.int8`,`np.int16`,...,`np.int128`；将 `float` 细分为了 `np.float16`,`np.float32`,...,`np.foat256`等.\n",
    "\n",
    "+ itemsize: array 每个元素的字节数"
   ]
  },
  {
   "cell_type": "markdown",
   "metadata": {},
   "source": [
    "## 2 创建 array\n",
    "np 数组的类型是 `np.ndarray`。此笔记将 np 数组简称为 array。"
   ]
  },
  {
   "cell_type": "code",
   "execution_count": 3,
   "metadata": {},
   "outputs": [
    {
     "data": {
      "text/plain": [
       "numpy.ndarray"
      ]
     },
     "execution_count": 3,
     "metadata": {},
     "output_type": "execute_result"
    }
   ],
   "source": [
    "type(np.array([1]))"
   ]
  },
  {
   "cell_type": "markdown",
   "metadata": {},
   "source": [
    "### 2.1 np.array\n",
    "`np.array` 可以将一个列表或元组转为一个 array"
   ]
  },
  {
   "cell_type": "code",
   "execution_count": 4,
   "metadata": {},
   "outputs": [
    {
     "data": {
      "text/plain": [
       "array([[1, 2, 3],\n",
       "       [4, 5, 6]])"
      ]
     },
     "execution_count": 4,
     "metadata": {},
     "output_type": "execute_result"
    }
   ],
   "source": [
    "arr=np.array([[1,2,3],[4,5,6]])\n",
    "arr"
   ]
  },
  {
   "cell_type": "markdown",
   "metadata": {},
   "source": [
    "### 2.2 np.asarray\n",
    "`np.array()` 是一个将输入数据（如列表、元组等）复制为一个新的 array 的函数。`np.asarray()` 也将输入转换为数组，但当输入数据已经是一个  array 时，它不会复制数据，而是直接返回该数组。因此，array 的类型转换更推荐使用 `np.asarray()`。"
   ]
  },
  {
   "cell_type": "code",
   "execution_count": 5,
   "metadata": {},
   "outputs": [
    {
     "name": "stdout",
     "output_type": "stream",
     "text": [
      "False\n",
      "True\n"
     ]
    }
   ],
   "source": [
    "arr_asarray = np.asarray(arr)\n",
    "arr_array = np.array(arr)\n",
    "\n",
    "print(arr is arr_array)  # False，因为np.array()复制了数据\n",
    "print(arr is arr_asarray)  # True，因为np.asarray()没有复制数据\n"
   ]
  },
  {
   "cell_type": "markdown",
   "metadata": {},
   "source": [
    "注意：\n",
    "\n",
    "+ 当使用 `np.asarray()` 函数将 Pillow 图像对象转换为 array 时，默认情况下，结果数组的内存是不可写的。"
   ]
  },
  {
   "cell_type": "markdown",
   "metadata": {},
   "source": [
    "### 2.3 np.arrange\n",
    "\n",
    "`np.arrrange` 的作用与 `range` 类似"
   ]
  },
  {
   "cell_type": "code",
   "execution_count": 6,
   "metadata": {},
   "outputs": [
    {
     "data": {
      "text/plain": [
       "array([ 0,  1,  2,  3,  4,  5,  6,  7,  8,  9, 10, 11])"
      ]
     },
     "execution_count": 6,
     "metadata": {},
     "output_type": "execute_result"
    }
   ],
   "source": [
    "np.arange(12)"
   ]
  },
  {
   "cell_type": "markdown",
   "metadata": {},
   "source": [
    "### 2.5 np.linspace\n",
    "创建从起点到终点的等分（默认包含起点和终点），有点像arange的连续版本。\n",
    "\n",
    "**参数**\n",
    "\n",
    "+ `start`: 起点\n",
    "\n",
    "+ `stop`: 终点\n",
    "\n",
    "+ `num`: 点的个数\n",
    "\n",
    "+ `endpoint`: bool 值,指定是否包含终点(是否包含终点并不影响点的个数)"
   ]
  },
  {
   "cell_type": "code",
   "execution_count": 7,
   "metadata": {},
   "outputs": [
    {
     "data": {
      "text/plain": [
       "array([0.  , 1.25, 2.5 , 3.75])"
      ]
     },
     "execution_count": 7,
     "metadata": {},
     "output_type": "execute_result"
    }
   ],
   "source": [
    "np.linspace(0,5,4,endpoint=False)"
   ]
  },
  {
   "cell_type": "markdown",
   "metadata": {},
   "source": [
    "### 2.6 指定为全0或全1\n",
    "以 `np.ones()` 为例，参数为 `shape`，指定 array 的形状。"
   ]
  },
  {
   "cell_type": "code",
   "execution_count": 8,
   "metadata": {},
   "outputs": [
    {
     "data": {
      "text/plain": [
       "(array([[1., 1.],\n",
       "        [1., 1.],\n",
       "        [1., 1.]]),\n",
       " array([[0., 0.],\n",
       "        [0., 0.],\n",
       "        [0., 0.]]))"
      ]
     },
     "execution_count": 8,
     "metadata": {},
     "output_type": "execute_result"
    }
   ],
   "source": [
    "np.ones((3,2)),np.zeros((3,2))"
   ]
  },
  {
   "cell_type": "markdown",
   "metadata": {},
   "source": [
    "### 2.7 np.empty\n",
    "`np.empty()` 只分配内存而不初始化值，所以值是随机的。(在 `.py` 脚本下运行确实是随机值，不知道是不是 jupyter 是不是有什么特性，初始化的值全为 0)\n",
    "\n",
    "参数为 `shape` ，指定 array 的形状。"
   ]
  },
  {
   "cell_type": "code",
   "execution_count": 9,
   "metadata": {},
   "outputs": [
    {
     "data": {
      "text/plain": [
       "array([[0., 0.],\n",
       "       [0., 0.],\n",
       "       [0., 0.]])"
      ]
     },
     "execution_count": 9,
     "metadata": {},
     "output_type": "execute_result"
    }
   ],
   "source": [
    "np.empty((3,2))"
   ]
  },
  {
   "cell_type": "markdown",
   "metadata": {},
   "source": [
    "## 3 保存 array\n",
    "### 3.1 np.savetxt\n",
    "`np.savetxt` 将 array 保存为 `txt` 或者 `csv` 文本文件。\n",
    "\n",
    "**参数**\n",
    "\n",
    "+ `fname`: 保存的文件名\n",
    "\n",
    "+ `X`: array\n",
    "\n",
    "+ `delimiter`: 分隔符\n",
    "\n",
    "+ `fmt`: 格式\n"
   ]
  },
  {
   "cell_type": "code",
   "execution_count": 10,
   "metadata": {},
   "outputs": [],
   "source": [
    "np.savetxt(\"save.txt\",arr,delimiter=\",\",fmt=\"%f\")"
   ]
  },
  {
   "cell_type": "markdown",
   "metadata": {},
   "source": [
    "### 3.2 np.save()\n",
    "`np.save()` 将 array 保存为 `.npy` 格式的文件，这种格式是专门用来存 array 的二进制文件。"
   ]
  },
  {
   "cell_type": "code",
   "execution_count": 11,
   "metadata": {},
   "outputs": [],
   "source": [
    "np.save(\"test.npy\",arr)"
   ]
  },
  {
   "cell_type": "markdown",
   "metadata": {},
   "source": [
    "## 4 导入 array\n",
    "\n",
    "### 4.1 np.loadtxt\n",
    "`np.loadtxt` 可以读入一个 `txt` 或者 `csv` 文本文件。文件的不同行将会被读成 array 的不同行。\n",
    "\n",
    "**参数**\n",
    "\n",
    "+ `delimiter`: 分隔符\n",
    "\n",
    "+ `encoding`: 编码方式\n",
    "\n",
    "+ `dtype`: 类型"
   ]
  },
  {
   "cell_type": "code",
   "execution_count": 12,
   "metadata": {},
   "outputs": [
    {
     "data": {
      "text/plain": [
       "array([[ 1,  2,  3,  4],\n",
       "       [ 5,  6,  7,  8],\n",
       "       [ 9, 10, 11, 12]])"
      ]
     },
     "execution_count": 12,
     "metadata": {},
     "output_type": "execute_result"
    }
   ],
   "source": [
    "np.loadtxt(\"test.txt\", delimiter=',',encoding=\"utf-8\",dtype=np.int32)"
   ]
  },
  {
   "cell_type": "markdown",
   "metadata": {},
   "source": [
    "### 4.2 np.fromfile()\n",
    "`np.loadtxt()` 的加强版。可以从文本文件或二进制文件中读取数据并将其转换为 array。\n",
    "\n",
    "**参数**\n",
    "\n",
    "+ file：要读取的文件的名称或文件对象。如果是文件名称，该文件将会被打开；如果是文件对象，则从当前位置开始读取。\n",
    "+ dtype：数据的数据类型。这决定了返回的数组中元素的类型。默认值是float。\n",
    "+ count：要读取的元素数量。默认为-1，表示读取文件中的所有数据。\n",
    "+ sep：如果是从文本文件读取数据，sep参数定义了分隔符。默认为空，意味着函数期望读取二进制文件。如果提供了分隔符（例如，逗号,或空格 ），则表示从文本文件中读取数据。"
   ]
  },
  {
   "cell_type": "code",
   "execution_count": 13,
   "metadata": {},
   "outputs": [
    {
     "name": "stderr",
     "output_type": "stream",
     "text": [
      "C:\\Users\\lm\\AppData\\Local\\Temp\\ipykernel_7348\\2785885426.py:1: DeprecationWarning: string or file could not be read to its end due to unmatched data; this will raise a ValueError in the future.\n",
      "  np.fromfile(\"test.txt\",sep=\",\")\n"
     ]
    },
    {
     "data": {
      "text/plain": [
       "array([1., 2., 3., 4.])"
      ]
     },
     "execution_count": 13,
     "metadata": {},
     "output_type": "execute_result"
    }
   ],
   "source": [
    "np.fromfile(\"test.txt\",sep=\",\")"
   ]
  },
  {
   "cell_type": "markdown",
   "metadata": {},
   "source": [
    "这里有点问题，这个函数好像无法正确处理 `\\n`。读文本文件还是先用 `loadtxt` 吧"
   ]
  },
  {
   "cell_type": "markdown",
   "metadata": {},
   "source": [
    "### 4.3 np.load()\n",
    "`np.load()` 读取一个 `.npy` 文件\n"
   ]
  },
  {
   "cell_type": "code",
   "execution_count": 14,
   "metadata": {},
   "outputs": [
    {
     "data": {
      "text/plain": [
       "array([[1, 2, 3],\n",
       "       [4, 5, 6]])"
      ]
     },
     "execution_count": 14,
     "metadata": {},
     "output_type": "execute_result"
    }
   ],
   "source": [
    "np.load(\"test.npy\")"
   ]
  },
  {
   "cell_type": "markdown",
   "metadata": {},
   "source": [
    "## 5 拼接"
   ]
  },
  {
   "cell_type": "markdown",
   "metadata": {},
   "source": [
    "### 5.1 np.vstack()\n",
    "`np.vstack()` 的作用是垂直堆叠一些 array.\n",
    "\n",
    "**参数**\n",
    "\n",
    "+ `tup`: 这些 array 被包装在一个元组里传入（传一个列表也行）\n"
   ]
  },
  {
   "cell_type": "code",
   "execution_count": 15,
   "metadata": {},
   "outputs": [
    {
     "data": {
      "text/plain": [
       "array([[1., 1., 1.],\n",
       "       [2., 2., 2.]])"
      ]
     },
     "execution_count": 15,
     "metadata": {},
     "output_type": "execute_result"
    }
   ],
   "source": [
    "row1=np.ones(3)\n",
    "row2=np.ones(3)*2\n",
    "np.vstack((row1,row2))"
   ]
  },
  {
   "cell_type": "markdown",
   "metadata": {},
   "source": [
    "### 5.2 np.hstack()\n",
    "`np.hstack()` 的作用是水平堆叠一些 array.\n",
    "\n",
    "**参数**\n",
    "\n",
    "+ `tup`: 这些 array 被包装在一个元组里传入（传一个列表也行）"
   ]
  },
  {
   "cell_type": "code",
   "execution_count": 16,
   "metadata": {},
   "outputs": [
    {
     "data": {
      "text/plain": [
       "array([1., 1., 1., 2., 2., 2.])"
      ]
     },
     "execution_count": 16,
     "metadata": {},
     "output_type": "execute_result"
    }
   ],
   "source": [
    "col1=np.ones(3)\n",
    "col2=np.ones(3)*2\n",
    "np.hstack((col1,col2))"
   ]
  },
  {
   "cell_type": "markdown",
   "metadata": {},
   "source": [
    "## 6 数学运算\n",
    "\n",
    "+ 累积乘积：输入和输出的 shape 是一致的。"
   ]
  },
  {
   "cell_type": "code",
   "execution_count": 17,
   "metadata": {},
   "outputs": [
    {
     "data": {
      "text/plain": [
       "array([1, 2, 6])"
      ]
     },
     "execution_count": 17,
     "metadata": {},
     "output_type": "execute_result"
    }
   ],
   "source": [
    "a=np.arange(1,4)        # [1, 2, 3]\n",
    "np.cumprod(a)           # [1, 1*2, 1*2*3]\n"
   ]
  }
 ],
 "metadata": {
  "kernelspec": {
   "display_name": "base",
   "language": "python",
   "name": "python3"
  },
  "language_info": {
   "codemirror_mode": {
    "name": "ipython",
    "version": 3
   },
   "file_extension": ".py",
   "mimetype": "text/x-python",
   "name": "python",
   "nbconvert_exporter": "python",
   "pygments_lexer": "ipython3",
   "version": "3.11.7"
  }
 },
 "nbformat": 4,
 "nbformat_minor": 2
}
